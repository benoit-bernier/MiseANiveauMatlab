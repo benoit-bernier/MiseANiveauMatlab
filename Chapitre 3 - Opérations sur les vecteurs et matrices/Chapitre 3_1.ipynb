{
 "cells": [
  {
   "cell_type": "markdown",
   "metadata": {},
   "source": [
    "# Les vecteurs et matrices \n",
    "\n",
    "Si Matlab est l'acronyme de *Matrix Laboratory*, ce n'est pas pour rien (et ce n'est pas un hommage aux films des Wachowski non plus). En effet, il permet de manipuler facilement des tableaux à une ou plusieurs dimensions (ce que nous connaissons sous le nom de vecteurs ou matrices, respectivement). Nous verrons dans ce chapitre comment les définir, accéder à leurs éléments et réaliser les opérations les plus fréquentes avec eux. Nous essayerons d'expliquer les concepts de façon la plus claire possible, adaptée à des débutants dans ce langage, mais pour toute question ou remarque sur les explications de ce chapitre, n'hésitez pas à contacter son auteur Carlos Sosa Marrero (carlos.sosa@univ-rennes1.fr)."
   ]
  },
  {
   "cell_type": "markdown",
   "metadata": {},
   "source": [
    "## Les vecteurs\n",
    "### Définition de vecteurs\n",
    "Il existe plusieurs manières de définir des vecteurs en Matlab. \n",
    "Une première façon consiste à utiliser des crochets `[.]` et lister les valeurs que nous voulons inclure dans notre vecteur séparées par une virgule et/ou un espace. Nous vous montrons un exemple de vecteur ligne de trois éléments."
   ]
  },
  {
   "cell_type": "code",
   "execution_count": 127,
   "metadata": {},
   "outputs": [
    {
     "name": "stdout",
     "output_type": "stream",
     "text": [
      "v =\n",
      "\n",
      "   7  -5   3\n",
      "\n"
     ]
    }
   ],
   "source": [
    "v = [7, -5, 3]"
   ]
  },
  {
   "cell_type": "markdown",
   "metadata": {},
   "source": [
    "Nous pouvons également construire des vecteurs colonne. Pour cela, nous séparons les différentes lignes avec un point-virgule `;` et/ou un retour chariot. "
   ]
  },
  {
   "cell_type": "code",
   "execution_count": 128,
   "metadata": {},
   "outputs": [
    {
     "name": "stdout",
     "output_type": "stream",
     "text": [
      "w =\n",
      "\n",
      "   1\n",
      "   6\n",
      "  -4\n",
      "\n"
     ]
    }
   ],
   "source": [
    "w = [1; 6; -4]"
   ]
  },
  {
   "cell_type": "markdown",
   "metadata": {},
   "source": [
    "Nous pouvons aussi définir des vecteurs ligne à partir de suites arithmétiques. Nous construisons ces suites en tapant `n:p:m`, où `n` est la limite à gauche; `p`, le pas et `m`, la limite à droite. Ainsi, pour construire, par exemple, un vecteur dont les éléments correspondent aux nombres pairs appartenant à [4, 18] en ordre croissant, nous devons taper"
   ]
  },
  {
   "cell_type": "code",
   "execution_count": 129,
   "metadata": {},
   "outputs": [
    {
     "name": "stdout",
     "output_type": "stream",
     "text": [
      "v =\n",
      "\n",
      "    4    6    8   10   12   14   16   18\n",
      "\n"
     ]
    }
   ],
   "source": [
    "v = 4:2:18"
   ]
  },
  {
   "cell_type": "markdown",
   "metadata": {},
   "source": [
    "En indiquant une valeur de `n` plus grande que celle de `m` et un pas négatif, nous pouvons construire une suite décroissante pour définir notre vecteur."
   ]
  },
  {
   "cell_type": "code",
   "execution_count": 130,
   "metadata": {},
   "outputs": [
    {
     "name": "stdout",
     "output_type": "stream",
     "text": [
      "v =\n",
      "\n",
      "   18   16   14   12   10    8    6    4\n",
      "\n"
     ]
    }
   ],
   "source": [
    "v = 18:-2:4"
   ]
  },
  {
   "cell_type": "markdown",
   "metadata": {},
   "source": [
    "Si nous n'indiquons pas la valeur `p` de la suite, Matlab considère un pas unitaire, comme nous pouvons constater dans l'exemple suivant."
   ]
  },
  {
   "cell_type": "code",
   "execution_count": 131,
   "metadata": {},
   "outputs": [
    {
     "name": "stdout",
     "output_type": "stream",
     "text": [
      "w =\n",
      "\n",
      "    3    4    5    6    7    8    9   10   11   12\n",
      "\n"
     ]
    }
   ],
   "source": [
    "w = 3:12"
   ]
  },
  {
   "cell_type": "markdown",
   "metadata": {},
   "source": [
    "Il est également possible de définir un vecteur en utilisant la fonction Matlab `linspace(a, b, n)`. Elle renvoie un vecteur ligne composé de  `n` éléments régulièrement espacés de `a` à `b`. Nous vous montrons un exemple d'utilisation de cette fonction."
   ]
  },
  {
   "cell_type": "code",
   "execution_count": 132,
   "metadata": {},
   "outputs": [
    {
     "name": "stdout",
     "output_type": "stream",
     "text": [
      "v =\n",
      "\n",
      " Columns 1 through 8:\n",
      "\n",
      "   0.00000   0.50000   1.00000   1.50000   2.00000   2.50000   3.00000   3.50000\n",
      "\n",
      " Columns 9 through 11:\n",
      "\n",
      "   4.00000   4.50000   5.00000\n",
      "\n"
     ]
    }
   ],
   "source": [
    "v = linspace(0, 5, 11)"
   ]
  },
  {
   "cell_type": "markdown",
   "metadata": {},
   "source": [
    "#### Longueur d'un vecteur\n",
    "La fonction `length(v)` permet d'obtenir la longueur du vecteur `v`, comme nous montrons dans l'exemple suivant."
   ]
  },
  {
   "cell_type": "code",
   "execution_count": 133,
   "metadata": {},
   "outputs": [
    {
     "name": "stdout",
     "output_type": "stream",
     "text": [
      "longueur =  3\n"
     ]
    }
   ],
   "source": [
    "v = [7, -5, 3];\n",
    "longueur = length(v)"
   ]
  },
  {
   "cell_type": "markdown",
   "metadata": {},
   "source": [
    "### Accès aux éléments d'un vecteur\n",
    "L'accès aux éléments d'un vecteur se fait à l'aide de parenthèses `(.)`. Par exemple, pour accéder au deuxième élément du vecteur `u`, il suffit de taper"
   ]
  },
  {
   "cell_type": "code",
   "execution_count": 134,
   "metadata": {},
   "outputs": [
    {
     "name": "stdout",
     "output_type": "stream",
     "text": [
      "u2 = -6\n"
     ]
    }
   ],
   "source": [
    "u = [4, -6, 1, 9, -8];\n",
    "u2 = u(2)"
   ]
  },
  {
   "cell_type": "markdown",
   "metadata": {},
   "source": [
    "Nous remarquons que, à la différence d'autres langages de programmation comme C++ ou Python, la numérotation des indices commence à 1. \n",
    "\n",
    "Fréquemment, il est nécessaire d'accéder à plusieurs éléments d'un vecteur. Pour cela, nous indiquons les indices du premier et du dernier élément souhaités séparés par deux points `:`. Par exemple, l'accès aux trois premiers éléments du vecteur `u` se fait en tapant "
   ]
  },
  {
   "cell_type": "code",
   "execution_count": 135,
   "metadata": {},
   "outputs": [
    {
     "name": "stdout",
     "output_type": "stream",
     "text": [
      "u1a3 =\n",
      "\n",
      "   4  -6   1\n",
      "\n"
     ]
    }
   ],
   "source": [
    "u = [4, -6, 1, 9, -8];\n",
    "u1a3 = u(1:3)"
   ]
  },
  {
   "cell_type": "markdown",
   "metadata": {},
   "source": [
    "### Opérations avec les vecteurs\n",
    "Matlab permet d'effectuer un grand nombre d'opérations avec les vecteurs. Commençons par les plus basiques.\n",
    "#### Opérations arithmétiques basiques\n",
    "Soient deux vecteurs de la même longueur, nous pouvons calculer leur somme et leur différence comme nous vous montrons dans l'exemple suivant."
   ]
  },
  {
   "cell_type": "code",
   "execution_count": 136,
   "metadata": {
    "scrolled": true
   },
   "outputs": [
    {
     "name": "stdout",
     "output_type": "stream",
     "text": [
      "somme =\n",
      "\n",
      "    1    1   11   13  -13\n",
      "\n",
      "diff =\n",
      "\n",
      "    7  -13   -9    5   -3\n",
      "\n"
     ]
    }
   ],
   "source": [
    "u = [4, -6, 1, 9, -8];\n",
    "v = [-3, 7, 10, 4, -5];\n",
    "somme = u + v\n",
    "diff = u - v"
   ]
  },
  {
   "cell_type": "markdown",
   "metadata": {},
   "source": [
    "La multiplication ou la division d'un vecteur `u` par un scalaire `k` se réalise aussi de façon assez intuitive. Comme vous pouvez vous en douter, il suffit de taper "
   ]
  },
  {
   "cell_type": "code",
   "execution_count": 137,
   "metadata": {
    "scrolled": true
   },
   "outputs": [
    {
     "name": "stdout",
     "output_type": "stream",
     "text": [
      "prodk =\n",
      "\n",
      "    8  -12    2   18  -16\n",
      "\n",
      "divk =\n",
      "\n",
      "   2.00000  -3.00000   0.50000   4.50000  -4.00000\n",
      "\n"
     ]
    }
   ],
   "source": [
    "u = [4, -6, 1, 9, -8];\n",
    "k = 2;\n",
    "prodk = k * u\n",
    "divk = u / k"
   ]
  },
  {
   "cell_type": "markdown",
   "metadata": {},
   "source": [
    "#### Produit scalaire\n",
    "Nous pouvons calculer le produit scalaire de deux vecteurs `u` et `v` à l'aide de la fonction Matlab `dot(u, v)`. Regardons un exemple."
   ]
  },
  {
   "cell_type": "code",
   "execution_count": 138,
   "metadata": {},
   "outputs": [
    {
     "name": "stdout",
     "output_type": "stream",
     "text": [
      "prodScal =  32\n"
     ]
    }
   ],
   "source": [
    "u = [4, -6, 1, 9, -8];\n",
    "v = [-3, 7, 10, 4, -5];\n",
    "prodScal = dot(u, v)"
   ]
  },
  {
   "cell_type": "markdown",
   "metadata": {},
   "source": [
    "#### Opérations terme à terme\n",
    "Soient toujours `u` et `v` deux vecteurs de la même taille, nous pouvons nous intéresser à un vecteur `w` dont l'i-ème élément correspond au produit des i-èmes éléments de `u` et `v`. C'est ce que nous appelons le produit terme à terme et nous pouvons le calculer en ajoutant un point `.` devant l'opérateur produit classique. Nous vous en montrons un exemple.  "
   ]
  },
  {
   "cell_type": "code",
   "execution_count": 139,
   "metadata": {},
   "outputs": [
    {
     "name": "stdout",
     "output_type": "stream",
     "text": [
      "prodTaT =\n",
      "\n",
      "  -12  -42   10   36   40\n",
      "\n"
     ]
    }
   ],
   "source": [
    "u = [4, -6, 1, 9, -8];\n",
    "v = [-3, 7, 10, 4, -5];\n",
    "prodTaT = u .* v"
   ]
  },
  {
   "cell_type": "markdown",
   "metadata": {},
   "source": [
    "De façon analogique, nous pouvons calculer un vecteur résultant de la division terme à terme de `u` entre `v` comme  nous vous montrons dans l'exemple suivant."
   ]
  },
  {
   "cell_type": "code",
   "execution_count": 140,
   "metadata": {},
   "outputs": [
    {
     "name": "stdout",
     "output_type": "stream",
     "text": [
      "divTaT =\n",
      "\n",
      "  -1.33333  -0.85714   0.10000   2.25000   1.60000\n",
      "\n"
     ]
    }
   ],
   "source": [
    "u = [4, -6, 1, 9, -8];\n",
    "v = [-3, 7, 10, 4, -5];\n",
    "divTaT = u ./ v"
   ]
  },
  {
   "cell_type": "markdown",
   "metadata": {},
   "source": [
    "Et comment faudrait-il faire pour obtenir un vecteur `u2` dont l'i-ème élément correspond au carré de l'i-ème élément de `u` ? Nous sommes sûrs que, arrivés à ce point, vous comprenez que cette opération se réalise de la manière suivante. "
   ]
  },
  {
   "cell_type": "code",
   "execution_count": 141,
   "metadata": {},
   "outputs": [
    {
     "name": "stdout",
     "output_type": "stream",
     "text": [
      "u2 =\n",
      "\n",
      "   16   36    1   81   64\n",
      "\n"
     ]
    }
   ],
   "source": [
    "u = [4, -6, 1, 9, -8];\n",
    "u2 = u .^2"
   ]
  },
  {
   "cell_type": "markdown",
   "metadata": {},
   "source": [
    "#### Transposé d'un vecteur\n",
    "Le transposé d'un vecteur (passage de vecteur ligne à colonne et vice versa) se réalise à l'aide de l'opérateur `'`. Nous vous en montrons un exemple."
   ]
  },
  {
   "cell_type": "code",
   "execution_count": 142,
   "metadata": {},
   "outputs": [
    {
     "name": "stdout",
     "output_type": "stream",
     "text": [
      "ut =\n",
      "\n",
      "   4\n",
      "  -6\n",
      "   1\n",
      "   9\n",
      "  -8\n",
      "\n"
     ]
    }
   ],
   "source": [
    "u = [4, -6, 1, 9, -8];\n",
    "ut = u'"
   ]
  },
  {
   "cell_type": "markdown",
   "metadata": {},
   "source": [
    "#### Concaténation de vecteurs\n",
    "La concaténation de deux vecteurs en Matlab se fait aussi de façon assez simple. Soient deux vecteurs ligne `u` et `v`, nous pouvons construire un troisième vecteur `w` en concaténant `u` et `v` comme nous vous montrons dans l'exemple suivant."
   ]
  },
  {
   "cell_type": "code",
   "execution_count": 143,
   "metadata": {},
   "outputs": [
    {
     "name": "stdout",
     "output_type": "stream",
     "text": [
      "w =\n",
      "\n",
      "    4   -6    1    9   -8   -3    7   10    4   -5\n",
      "\n"
     ]
    }
   ],
   "source": [
    "u = [4, -6, 1, 9, -8];\n",
    "v = [-3, 7, 10, 4, -5];\n",
    "w = [u, v]"
   ]
  },
  {
   "cell_type": "markdown",
   "metadata": {},
   "source": [
    "En effet, nous pouvons voir cette opération comme si nous construisions le vecteur `w` en listant ses deux éléments (`u` et `v`) entre crochets. Comme les deux sont dans la même ligne, nous les séparons, bien entendu, avec une virgule (et/ou un espace). En appliquant ce même raisonnement, vous pouvez déduire que la concaténation de deux vecteurs colonne se réalise de la façon suivante."
   ]
  },
  {
   "cell_type": "code",
   "execution_count": 144,
   "metadata": {},
   "outputs": [
    {
     "name": "stdout",
     "output_type": "stream",
     "text": [
      "w =\n",
      "\n",
      "    4\n",
      "   -6\n",
      "    1\n",
      "    9\n",
      "   -8\n",
      "   -3\n",
      "    7\n",
      "   10\n",
      "    4\n",
      "   -5\n",
      "\n"
     ]
    }
   ],
   "source": [
    "u = [4; -6; 1; 9; -8];\n",
    "v = [-3; 7; 10; 4; -5];\n",
    "w = [u; v]"
   ]
  },
  {
   "cell_type": "markdown",
   "metadata": {},
   "source": [
    "Nous avons fréquemment besoin d'ajouter un dernier élément `a` à un vecteur déjà créé `u`. Nous pouvons voir cette opération comme l'affectation à `u` de la concaténation entre sa valeur précédente et `a`. C'est-à-dire,"
   ]
  },
  {
   "cell_type": "code",
   "execution_count": 145,
   "metadata": {},
   "outputs": [
    {
     "name": "stdout",
     "output_type": "stream",
     "text": [
      "u =\n",
      "\n",
      "   4  -6   1   9  -8   2\n",
      "\n"
     ]
    }
   ],
   "source": [
    "u = [4, -6, 1, 9, -8];\n",
    "a = 2;\n",
    "u = [u, a]"
   ]
  },
  {
   "cell_type": "markdown",
   "metadata": {},
   "source": [
    "## Les matrices\n",
    "### Définition de matrices\n",
    "Maintenant que vous comprenez comment définir des vecteurs ligne ou colonne, la façon de déclarer une matrice en Matlab ne devrait pas vous poser trop de problèmes. Vous savez que les éléments d'un vecteur ligne sont séparés par une virgule et/ou un espace et que nous indiquons avec un point-virgule et/ou un retour chariot les transitions entre les différentes lignes d'un vecteur colonne. Et bien, avec ces deux règles en tête, nous sommes certains qu'il vous semble cohérent qu'une matrice *3 x 2* `A` soit définie de la manière suivante"
   ]
  },
  {
   "cell_type": "code",
   "execution_count": 146,
   "metadata": {},
   "outputs": [
    {
     "name": "stdout",
     "output_type": "stream",
     "text": [
      "A =\n",
      "\n",
      "   3   6\n",
      "   7  -4\n",
      "  -1   5\n",
      "\n"
     ]
    }
   ],
   "source": [
    "A = [3, 6;\n",
    "    7, -4;\n",
    "    -1, 5]"
   ]
  },
  {
   "cell_type": "markdown",
   "metadata": {},
   "source": [
    "En fait, comme vous l'avez peut-être déjà remarqué, Matlab considère les vecteurs comme un cas particulier d'une matrice avec une seule ligne ou colonne (même les scalaires, ils sont vus par Matlab comme une matrice de taille *1 x 1*). "
   ]
  },
  {
   "cell_type": "markdown",
   "metadata": {},
   "source": [
    "#### Quelques fonctions utiles\n",
    "Définir de petites matrices avec des crochets en listant tous leurs éléments c'est pratique, mais cette tache devient fatigante lorsque nous augmentons la taille de notre problème. Pensons, par exemple, à définir une matrice *100 x 200* dont tous les éléments sont égaux à zéro. Appuyer 20 000 fois sur la touche 0 du clavier semble une tâche assez répétitive. Heureusement, nous ne sommes pas les premiers à être confrontés à ce problème et Matlab en a déjà prévu une solution. Il s'agit de la fonction `zeros(m, n)`, qui définit une matrice de zéros de `m` lignes et `n` colonnes. Nous vous montrons deux exemples de l'utilisation de cette fonction. Amusez-vous à enlever le point-virgule du deuxième pour voir quelques zéros apparaître sur votre écran."
   ]
  },
  {
   "cell_type": "code",
   "execution_count": 147,
   "metadata": {},
   "outputs": [
    {
     "name": "stdout",
     "output_type": "stream",
     "text": [
      "A =\n",
      "\n",
      "   0   0   0\n",
      "   0   0   0\n",
      "\n"
     ]
    }
   ],
   "source": [
    "A = zeros(2, 3)\n",
    "B = zeros(100, 200);"
   ]
  },
  {
   "cell_type": "markdown",
   "metadata": {},
   "source": [
    "Comme vous pouvez le déduire à partir du titre de la section, `zeros(m, n)` n'est pas la seule fonction que nous allons vous présenter dans ces lignes. Comment créeriez-vous une matrice de taille `m` x `n` dont tous les éléments sont égaux à l'unité ? Si vous avez bien compris le fonctionnement de `zeros(m, n)` et vous avez quelques connaissances basiques de la langue anglaise, vous devriez être capables de déduire que cela se fait à l'aide de la fonction `ones(m, n)` de la manière suivante. "
   ]
  },
  {
   "cell_type": "code",
   "execution_count": 148,
   "metadata": {},
   "outputs": [
    {
     "name": "stdout",
     "output_type": "stream",
     "text": [
      "A =\n",
      "\n",
      "   1   1   1\n",
      "   1   1   1\n",
      "\n"
     ]
    }
   ],
   "source": [
    "A = ones(2, 3)\n",
    "B = ones(100, 200);"
   ]
  },
  {
   "cell_type": "markdown",
   "metadata": {},
   "source": [
    "Nous sommes sûrs que vous appréciez l'utilité de pouvoir créer d'énormes matrices en une seule commannde. Cependant, nous vous accordons que c'est un peu dommage de ne pouvoir créer que des matrices contenant des 0 ou des 1.  Comment définiriez-vous une matrice avec tous ses éléments égaux à, par exemple, 2 ? Et bien, non, la fonction ~~`twos(m, n)`~~ n'existe pas. Mais, ce n'est pas grave. Vous souvenez-vous de la façon dont nous avons multiplié un vecteur par une constante ? Et nous avons aussi dit que Matlab considère les vecteurs comme une matrice d'une seule ligne ou colonne, n'est-ce pas ? Nous vous proposons donc de créer une matrice avec tous ses éléments égaux à 2 de la façon suivante."
   ]
  },
  {
   "cell_type": "code",
   "execution_count": 149,
   "metadata": {},
   "outputs": [
    {
     "name": "stdout",
     "output_type": "stream",
     "text": [
      "A =\n",
      "\n",
      "   2   2   2\n",
      "   2   2   2\n",
      "\n"
     ]
    }
   ],
   "source": [
    "A = 2 * ones(2, 3)\n",
    "B = 2 * ones(100, 200);"
   ]
  },
  {
   "cell_type": "markdown",
   "metadata": {},
   "source": [
    "Vous êtes capables, arrivés à ce point, de créer des matrices avec tous leurs éléments égaux à une constante donnée de façon simple et rapide. Pourtant, nous sommes sûrs que vous pouvez penser à d'autres matrices souvent utilisées pour lesquelles la tâche de rentrer tous leurs coefficients à la main serait aussi fatigante. La matrice identité, par exemple. Et bien, Matlab a aussi prévu une solution à ce problème. Il s'agit, dans ce cas, de la fonction `eye(n)` qui renvoie une matrice identité de taille `n` x `n`, comme nous montrons dans l'exemple suivant."
   ]
  },
  {
   "cell_type": "code",
   "execution_count": 150,
   "metadata": {},
   "outputs": [
    {
     "name": "stdout",
     "output_type": "stream",
     "text": [
      "I =\n",
      "\n",
      "Diagonal Matrix\n",
      "\n",
      "   1   0   0   0\n",
      "   0   1   0   0\n",
      "   0   0   1   0\n",
      "   0   0   0   1\n",
      "\n"
     ]
    }
   ],
   "source": [
    "I = eye(4)\n",
    "II = eye(400);"
   ]
  },
  {
   "cell_type": "markdown",
   "metadata": {},
   "source": [
    "Nous remarquons que, comme toute matrice identité digne de ce nom, `I` a tous ses coefficients nuls sauf ceux de sa diagonale, qui valent 1. Comment créeriez-vous une autre matrice aussi diagonale mais, dans ce cas, avec ses coefficients diagonaux correspondant à un vecteur `x` ? Nous vous proposons d'utiliser la fonction `diag(x)`. Regardons l'exemple suivant."
   ]
  },
  {
   "cell_type": "code",
   "execution_count": 151,
   "metadata": {},
   "outputs": [
    {
     "name": "stdout",
     "output_type": "stream",
     "text": [
      "D =\n",
      "\n",
      "Diagonal Matrix\n",
      "\n",
      "   1   0   0   0   0\n",
      "   0   2   0   0   0\n",
      "   0   0   3   0   0\n",
      "   0   0   0   4   0\n",
      "   0   0   0   0   5\n",
      "\n"
     ]
    }
   ],
   "source": [
    "d = 1:5;\n",
    "D = diag(d)"
   ]
  },
  {
   "cell_type": "markdown",
   "metadata": {},
   "source": [
    "Finalement, il peut être souvent nécessaire de construire une matrice avec des coefficients aléatoires. La fonction `rand(n)` facilite cette tache. Elle renvoie une matrice de taille `n` x `n` dont les éléments pseudo-aléatoires suivent une loi uniforme standard, comme nous montrons dans l'exemple suivant."
   ]
  },
  {
   "cell_type": "code",
   "execution_count": 152,
   "metadata": {},
   "outputs": [
    {
     "name": "stdout",
     "output_type": "stream",
     "text": [
      "A =\n",
      "\n",
      "   0.5624088   0.4646432   0.7293558   0.0763905\n",
      "   0.0139407   0.2612796   0.2434677   0.6962773\n",
      "   0.2332275   0.0067258   0.3224648   0.2843656\n",
      "   0.8936543   0.2103783   0.7629641   0.5968670\n",
      "\n"
     ]
    }
   ],
   "source": [
    "A = rand(4)"
   ]
  },
  {
   "cell_type": "markdown",
   "metadata": {},
   "source": [
    "#### Taille d'une matrice\n",
    "La fonction `size(A)` permet d'obtenir la taille de la matrice `A`, comme nous illustrons avec l'exemple suivant."
   ]
  },
  {
   "cell_type": "code",
   "execution_count": 153,
   "metadata": {},
   "outputs": [
    {
     "name": "stdout",
     "output_type": "stream",
     "text": [
      "nlig =  2\n",
      "ncol =  3\n"
     ]
    }
   ],
   "source": [
    "A = [1, 5, 7;\n",
    "    -5, 2, -8];\n",
    "[nlig, ncol] = size(A)"
   ]
  },
  {
   "cell_type": "markdown",
   "metadata": {},
   "source": [
    "### Accès aux éléments d'une matrice\n",
    "L'accès aux éléments d'une matrice se fait, comme nous avons expliqué précédemment pour le cas d'un vecteur, à l'aide de parenthèses `(.)`. Nous indiquons les numéros de la ligne `i` et la colonne `j` correspondantes séparés par une virgule. Regardons l'exemple suivant."
   ]
  },
  {
   "cell_type": "code",
   "execution_count": 154,
   "metadata": {},
   "outputs": [
    {
     "name": "stdout",
     "output_type": "stream",
     "text": [
      "A23 = -8\n"
     ]
    }
   ],
   "source": [
    "A = [1, 5, 7;\n",
    "    -5, 2, -8];\n",
    "A23 = A(2, 3)"
   ]
  },
  {
   "cell_type": "markdown",
   "metadata": {},
   "source": [
    "Comme nous avons aussi expliqué pour le cas des vecteurs, nous avons souvent besoin d'accéder à plusieurs éléments d'une matrice. Concrètement, il est fréquemment nécessaire d'accéder à tous les éléments d'une ligne ou une colonne. Pour ce faire, nous remplaçons `i` ou `j` par deux points `:`. Dans l'exemple suivant, nous accédons à tous les éléments de la troisième colonne de la matrice `A`."
   ]
  },
  {
   "cell_type": "code",
   "execution_count": 155,
   "metadata": {},
   "outputs": [
    {
     "name": "stdout",
     "output_type": "stream",
     "text": [
      "col3 =\n",
      "\n",
      "   7\n",
      "  -8\n",
      "\n"
     ]
    }
   ],
   "source": [
    "A = [1, 5, 7;\n",
    "    -5, 2, -8];\n",
    "col3 = A(:, 3)"
   ]
  },
  {
   "cell_type": "markdown",
   "metadata": {},
   "source": [
    "### Opérations avec les matrices"
   ]
  },
  {
   "cell_type": "markdown",
   "metadata": {},
   "source": [
    "Voyons maintenant comment réaliser les opérations matricielles les plus fréquentes."
   ]
  },
  {
   "cell_type": "markdown",
   "metadata": {},
   "source": [
    "#### Opérations arithmétiques basiques\n",
    "Si vous êtes arrivés à ces lignes, l'addition et la soustraction de deux matrices `A` et `B` ne devraient pas vous poser trop de problèmes. En effet, vous savez déjà comment additionner ou soustraire des vecteurs et nous avons dit que les vecteurs ne sont que des matrices d'une seule ligne ou colonne. Vous comprenez alors que pour calculer l'addition ou la soustraction de `A` et `B`, il suffit de vérifier qu'elles aient la même taille et d'utiliser les opérateurs classiques `+` et `-`, comme nous avons expliqué dans la section consacrée aux vecteurs. Nous vous en montrons un exemple quand même."
   ]
  },
  {
   "cell_type": "code",
   "execution_count": 156,
   "metadata": {},
   "outputs": [
    {
     "name": "stdout",
     "output_type": "stream",
     "text": [
      "somme =\n",
      "\n",
      "    3    1   10\n",
      "    0   -7  -14\n",
      "\n",
      "diff =\n",
      "\n",
      "   -1    9    4\n",
      "  -10   11   -2\n",
      "\n"
     ]
    }
   ],
   "source": [
    "A = [1, 5, 7;\n",
    "    -5, 2, -8];\n",
    "B = [2, -4, 3;\n",
    "    5, -9, -6];\n",
    "somme = A + B\n",
    "diff = A - B"
   ]
  },
  {
   "cell_type": "markdown",
   "metadata": {},
   "source": [
    "La multiplication des matrices `A` et `B` se fait aussi aisément. Nous n'avons qu'à vérifier que les matrices aient les bonnes dimensions (petit rappel, `A` doit être de taille *m x n* et `B`, *n x p* pour obtenir une matrice `C` *m x p*). Regardons l'exemple suivant."
   ]
  },
  {
   "cell_type": "code",
   "execution_count": 157,
   "metadata": {},
   "outputs": [
    {
     "name": "stdout",
     "output_type": "stream",
     "text": [
      "C =\n",
      "\n",
      "    69  -105     1    14\n",
      "   -48    66   -59   -43\n",
      "\n"
     ]
    }
   ],
   "source": [
    "A = [1, 5, 7;\n",
    "    -5, 2, -8];\n",
    "B = [2, -4, 3, 5;\n",
    "    5, -9, -6, -1;\n",
    "    6, -8, 4, 2];\n",
    "C = A * B"
   ]
  },
  {
   "cell_type": "markdown",
   "metadata": {},
   "source": [
    "Nous remarquons que le produit d'une matrice `A` de taille *1 x n* par une autre matrice `B` de dimensions *n x 1* correspond au produit scalaire de deux vecteurs de longueur n `u`et `v` ayant les mêmes coefficients que `A` et `B`, respectivement. Nous illustrons ce fait avec un exemple."
   ]
  },
  {
   "cell_type": "code",
   "execution_count": 158,
   "metadata": {},
   "outputs": [
    {
     "name": "stdout",
     "output_type": "stream",
     "text": [
      "C =  20\n",
      "prodScal =  20\n"
     ]
    }
   ],
   "source": [
    "A = [5, -4, 3, 7];\n",
    "B = [3;\n",
    "    -1;\n",
    "    5;\n",
    "    -2];\n",
    "C = A * B\n",
    "\n",
    "u = [5, -4, 3, 7];\n",
    "v = [3, -1, 5, -2];\n",
    "prodScal = dot(u, v)"
   ]
  },
  {
   "cell_type": "markdown",
   "metadata": {},
   "source": [
    "Nous pouvons donc calculer le produit scalaire de deux vecteurs ligne `u` et `v` comme le produit matriciel de `u` par le transposé de `v`, que, souvenez-vous, nous obtenons en tapant `v'`. Regardons l'exemple suivant."
   ]
  },
  {
   "cell_type": "code",
   "execution_count": 159,
   "metadata": {},
   "outputs": [
    {
     "name": "stdout",
     "output_type": "stream",
     "text": [
      "prodScal =  20\n",
      "prodScal2 =  20\n"
     ]
    }
   ],
   "source": [
    "u = [5, -4, 3, 7];\n",
    "v = [3, -1, 5, -2];\n",
    "prodScal = dot(u, v)\n",
    "prodScal2 = u * v'"
   ]
  },
  {
   "cell_type": "markdown",
   "metadata": {},
   "source": [
    "Il est très important de ne pas oublier de transposer le deuxième vecteur. Sinon, Matlab va trouver à juste titre que les \"matrices\" n'ont pas les bonnes dimensions pour réaliser leur produit."
   ]
  },
  {
   "cell_type": "markdown",
   "metadata": {},
   "source": [
    "#### Transposée d'une matrice"
   ]
  },
  {
   "cell_type": "markdown",
   "metadata": {},
   "source": [
    "Si le transposé d'un vecteur s'obtient à l'aide de l'opérateur `'`, la transposée d'une matrice se calcule de la même manière. C'est tout à fait cohérent car, nous nous permettons d'insister encore une fois là-dessus, un vecteur est une matrice d'une seule ligne ou colonne. Nous vous en montrons un exemple."
   ]
  },
  {
   "cell_type": "code",
   "execution_count": 160,
   "metadata": {},
   "outputs": [
    {
     "name": "stdout",
     "output_type": "stream",
     "text": [
      "At =\n",
      "\n",
      "   1  -5\n",
      "   5   2\n",
      "   7  -8\n",
      "\n"
     ]
    }
   ],
   "source": [
    "A = [1, 5, 7;\n",
    "    -5, 2, -8];\n",
    "At = A'"
   ]
  },
  {
   "cell_type": "markdown",
   "metadata": {},
   "source": [
    "#### Déterminant d'une matrice\n",
    "Le déterminant d'une matrice carrée `A` peut se calculer à l'aide de la fonction `det(A)`, comme nous vous montrons dans l'exemple suivant."
   ]
  },
  {
   "cell_type": "code",
   "execution_count": 161,
   "metadata": {},
   "outputs": [
    {
     "name": "stdout",
     "output_type": "stream",
     "text": [
      "detA =  221\n"
     ]
    }
   ],
   "source": [
    "A = [2, -4, 3;\n",
    "    5, -9, -6;\n",
    "    1, 6, 4];\n",
    "detA = det(A)"
   ]
  },
  {
   "cell_type": "markdown",
   "metadata": {},
   "source": [
    "#### Trace d'une matrice\n",
    "La fonction `trace(A)` permet, quelle surprise, de calculer la trace de la matrice carrée `A`. Regardons l'exemple suivant."
   ]
  },
  {
   "cell_type": "code",
   "execution_count": 162,
   "metadata": {},
   "outputs": [
    {
     "name": "stdout",
     "output_type": "stream",
     "text": [
      "trA = -3\n"
     ]
    }
   ],
   "source": [
    "A = [2, -4, 3;\n",
    "    5, -9, -6;\n",
    "    1, 6, 4];\n",
    "trA = trace(A)"
   ]
  },
  {
   "cell_type": "markdown",
   "metadata": {},
   "source": [
    "#### Inverse d'une matrice\n",
    "Calculer l'inverse d'une matrice carrée `A` est une tâche numériquement coûteuse. Cependant, nous pouvons, en tant que débutants, nous ficher des calculs que l'ordinateur fait à notre place et nous contenter d'appeler la fonction `inv(A)`, comme nous vous montrons dans l'exemple suivant. Bien entendu, nous ne devons pas oublier que pour que la matrice carrée `A` soit inversible il faut et il suffit que son déterminant soit non nul. "
   ]
  },
  {
   "cell_type": "code",
   "execution_count": 163,
   "metadata": {},
   "outputs": [
    {
     "name": "stdout",
     "output_type": "stream",
     "text": [
      "Ai =\n",
      "\n",
      "  -0.00000   0.15385   0.23077\n",
      "  -0.11765   0.02262   0.12217\n",
      "   0.17647  -0.07240   0.00905\n",
      "\n"
     ]
    }
   ],
   "source": [
    "A = [2, -4, 3;\n",
    "    5, -9, -6;\n",
    "    1, 6, 4];\n",
    "Ai = inv(A)"
   ]
  },
  {
   "cell_type": "markdown",
   "metadata": {},
   "source": [
    "#### Rang d'une matrice\n",
    "La fonction `rank(A)` renvoie le rang de la matrice `A`. Regardons l'exemple suivant."
   ]
  },
  {
   "cell_type": "code",
   "execution_count": 164,
   "metadata": {},
   "outputs": [
    {
     "name": "stdout",
     "output_type": "stream",
     "text": [
      "r =  3\n"
     ]
    }
   ],
   "source": [
    "A = [2, -4, 3;\n",
    "    5, -9, -6;\n",
    "    1, 6, 4];\n",
    "r = rank(A)"
   ]
  },
  {
   "cell_type": "markdown",
   "metadata": {},
   "source": [
    "#### Recherche de valeurs et vecteurs propres\n",
    "De nombreux problèmes mécaniques, de contrôle, d'imagerie ou statistiques nécessitent du calcul des valeurs et vecteurs propres d'une matrice carrée `A`. Heureusement, une fonction a été développée sur Matlab pour nous faciliter cette tâche. Il s'agit de `eig(A)` (il faut penser que nos amis anglophones connaissent les valeurs et les vecteurs propres sous le nom de *eigenvalues* et *eigenvectors*) . Cette fonction renvoie une matrice `v` dont chaque colonne correspond à un vecteur propre (avec des composantes réelles et imaginaires) et une matrice `d` avec les valeurs propres dans sa diagonale. Nous vous montrons un exemple d'utilisation de la fonction."
   ]
  },
  {
   "cell_type": "code",
   "execution_count": 165,
   "metadata": {},
   "outputs": [
    {
     "name": "stdout",
     "output_type": "stream",
     "text": [
      "v =\n",
      "\n",
      "  -0.73861 + 0.00000i  -0.28542 - 0.41739i  -0.28542 + 0.41739i\n",
      "   0.02515 + 0.00000i  -0.71784 + 0.00000i  -0.71784 - 0.00000i\n",
      "  -0.67366 + 0.00000i   0.36798 + 0.30598i   0.36798 - 0.30598i\n",
      "\n",
      "d =\n",
      "\n",
      "Diagonal Matrix\n",
      "\n",
      "   4.8724 + 0.0000i                  0                  0\n",
      "                  0  -3.9362 + 5.4648i                  0\n",
      "                  0                  0  -3.9362 - 5.4648i\n",
      "\n"
     ]
    }
   ],
   "source": [
    "A = [2, -4, 3;\n",
    "    5, -9, -6;\n",
    "    1, 6, 4];\n",
    "[v, d] = eig(A)"
   ]
  },
  {
   "cell_type": "markdown",
   "metadata": {},
   "source": [
    "Et voici un exemple de situation dans laquelle nous avons besoin d'accéder à plusieurs éléments d'une matrice. Comment travailleriez-vous avec le premier vecteur propre donné par la fonction `eig(A)` ? Il faudrait indiquer à Matlab que nous voulons accéder à tous les éléments de la première colonne de `v`, n'est-ce pas ? Nous sommes sûrs que vous savez maintenant comment cela se fait mais nous vous donnons la solution au cas où."
   ]
  },
  {
   "cell_type": "code",
   "execution_count": 166,
   "metadata": {},
   "outputs": [
    {
     "name": "stdout",
     "output_type": "stream",
     "text": [
      "v1 =\n",
      "\n",
      "  -0.738612\n",
      "   0.025151\n",
      "  -0.673662\n",
      "\n"
     ]
    }
   ],
   "source": [
    "A = [2, -4, 3;\n",
    "    5, -9, -6;\n",
    "    1, 6, 4];\n",
    "[v, d] = eig(A);\n",
    "v1 = v(:, 1)"
   ]
  },
  {
   "cell_type": "markdown",
   "metadata": {},
   "source": [
    "#### Concaténation de matrices\n",
    "Nous pouvons concaténer des matrices sur Matlab de façon assez intuitive. En nous basant sur ce que nous avons expliqué dans la section consacrée aux vecteurs nous vous en montrons deux exemples."
   ]
  },
  {
   "cell_type": "code",
   "execution_count": 167,
   "metadata": {},
   "outputs": [
    {
     "name": "stdout",
     "output_type": "stream",
     "text": [
      "C =\n",
      "\n",
      "   1   5   7   2  -4   3   5\n",
      "  -5   2  -8   5  -9  -6  -1\n",
      "\n",
      "F =\n",
      "\n",
      "   1   5   7\n",
      "  -5   2  -8\n",
      "   2  -4   3\n",
      "   5  -9  -6\n",
      "   6  -8   4\n",
      "\n"
     ]
    }
   ],
   "source": [
    "A = [1, 5, 7;\n",
    "    -5, 2, -8];\n",
    "B = [2, -4, 3, 5;\n",
    "    5, -9, -6, -1];\n",
    "C = [A, B]\n",
    "\n",
    "D = [1, 5, 7;\n",
    "    -5, 2, -8];\n",
    "E = [2, -4, 3;\n",
    "    5, -9, -6;\n",
    "    6, -8, 4];\n",
    "F = [D; E]"
   ]
  },
  {
   "cell_type": "markdown",
   "metadata": {},
   "source": [
    "Nous pouvons également ajouter une ligne ou une colonne à une matrice de façon analogue à celle dont nous avons ajouté un élément à un vecteur. Nous vous en montrons un exemple."
   ]
  },
  {
   "cell_type": "code",
   "execution_count": 168,
   "metadata": {},
   "outputs": [
    {
     "name": "stdout",
     "output_type": "stream",
     "text": [
      "A =\n",
      "\n",
      "   1   5   7\n",
      "  -5   2  -8\n",
      "   1   2   3\n",
      "\n",
      "A =\n",
      "\n",
      "   1   5   7   4\n",
      "  -5   2  -8   5\n",
      "   1   2   3  -6\n",
      "\n"
     ]
    }
   ],
   "source": [
    "A = [1, 5, 7;\n",
    "    -5, 2, -8];\n",
    "A = [A; 1:3]\n",
    "A = [A, [4; 5; -6]]"
   ]
  },
  {
   "cell_type": "markdown",
   "metadata": {},
   "source": [
    "### Pour aller plus loin\n",
    "Vous êtes maintenant capables de définir des vecteurs et matrices, accéder à leurs éléments et réaliser des opérations basiques avec eux, mais, bien entendu, les possibiltés de Matlab ne s'arretent pas là. Nous vous invitons, concrètement, à découvrir à l'aide de la commande `help` les fonctions \n",
    "* `find(X)` : renvoie les indices des éléments non nuls d'une matrice \n",
    "* `reshape(X, M, N)` : change les dimensions d'une matrice\n",
    "* `min(X)`: trouve le plus petit élémlent d'un vecteur ou de chaque colonne d'une matrice\n",
    "* `max(X)`: trouve le plus grand élémlent d'un vecteur ou de chaque colonne d'une matrice\n",
    "* `mean(X)`: calcule la valeur moyene d'un vecteur ou de chaque colonne  d'une matrice\n",
    "* `std(X)` : calcule l'écart type d'un vecteur ou de chaque colonne d'une matrice.\n"
   ]
  },
  {
   "cell_type": "markdown",
   "metadata": {},
   "source": [
    " # TP"
   ]
  },
  {
   "cell_type": "code",
   "execution_count": null,
   "metadata": {},
   "outputs": [],
   "source": []
  }
 ],
 "metadata": {
  "celltoolbar": "Raw Cell Format",
  "kernelspec": {
   "display_name": "Octave",
   "language": "octave",
   "name": "octave"
  },
  "language_info": {
   "file_extension": ".m",
   "help_links": [
    {
     "text": "GNU Octave",
     "url": "https://www.gnu.org/software/octave/support.html"
    },
    {
     "text": "Octave Kernel",
     "url": "https://github.com/Calysto/octave_kernel"
    },
    {
     "text": "MetaKernel Magics",
     "url": "https://github.com/calysto/metakernel/blob/master/metakernel/magics/README.md"
    }
   ],
   "mimetype": "text/x-octave",
   "name": "octave",
   "version": "4.2.2"
  }
 },
 "nbformat": 4,
 "nbformat_minor": 2
}
